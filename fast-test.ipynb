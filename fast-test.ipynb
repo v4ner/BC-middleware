{
 "cells": [
  {
   "cell_type": "code",
   "execution_count": 6,
   "id": "f425709f-5553-40d0-92d7-2bcd93cda8cc",
   "metadata": {},
   "outputs": [
    {
     "name": "stdout",
     "output_type": "stream",
     "text": [
      "Requirement already satisfied: python-socketio in /usr/local/lib/python3.11/dist-packages (5.11.4)\n",
      "Requirement already satisfied: websocket-client in /usr/local/lib/python3.11/dist-packages (1.8.0)\n",
      "Requirement already satisfied: requests in /usr/local/lib/python3.11/dist-packages (2.32.3)\n",
      "Requirement already satisfied: bidict>=0.21.0 in /usr/local/lib/python3.11/dist-packages (from python-socketio) (0.23.1)\n",
      "Requirement already satisfied: python-engineio>=4.8.0 in /usr/local/lib/python3.11/dist-packages (from python-socketio) (4.10.1)\n",
      "Requirement already satisfied: charset-normalizer<4,>=2 in /usr/local/lib/python3.11/dist-packages (from requests) (3.4.0)\n",
      "Requirement already satisfied: idna<4,>=2.5 in /usr/local/lib/python3.11/dist-packages (from requests) (3.10)\n",
      "Requirement already satisfied: urllib3<3,>=1.21.1 in /usr/local/lib/python3.11/dist-packages (from requests) (2.2.3)\n",
      "Requirement already satisfied: certifi>=2017.4.17 in /usr/local/lib/python3.11/dist-packages (from requests) (2024.8.30)\n",
      "Requirement already satisfied: simple-websocket>=0.10.0 in /usr/local/lib/python3.11/dist-packages (from python-engineio>=4.8.0->python-socketio) (1.1.0)\n",
      "Requirement already satisfied: wsproto in /usr/local/lib/python3.11/dist-packages (from simple-websocket>=0.10.0->python-engineio>=4.8.0->python-socketio) (1.2.0)\n",
      "Requirement already satisfied: h11<1,>=0.9.0 in /usr/local/lib/python3.11/dist-packages (from wsproto->simple-websocket>=0.10.0->python-engineio>=4.8.0->python-socketio) (0.14.0)\n",
      "\u001b[33mWARNING: Running pip as the 'root' user can result in broken permissions and conflicting behaviour with the system package manager. It is recommended to use a virtual environment instead: https://pip.pypa.io/warnings/venv\u001b[0m\u001b[33m\n",
      "\u001b[0m"
     ]
    }
   ],
   "source": [
    "!pip3 install python-socketio websocket-client requests --break-system-packages"
   ]
  },
  {
   "cell_type": "code",
   "execution_count": null,
   "id": "ab81ace8-f371-49d1-b8a3-bd2abe033268",
   "metadata": {},
   "outputs": [
    {
     "name": "stderr",
     "output_type": "stream",
     "text": [
      "Attempting polling connection to https://bondage-club-server.herokuapp.com/socket.io/?transport=polling&EIO=4\n",
      "INFO:engineio.client:Attempting polling connection to https://bondage-club-server.herokuapp.com/socket.io/?transport=polling&EIO=4\n",
      "DEBUG:urllib3.connectionpool:Starting new HTTPS connection (1): bondage-club-server.herokuapp.com:443\n",
      "DEBUG:urllib3.connectionpool:https://bondage-club-server.herokuapp.com:443 \"GET /socket.io/?transport=polling&EIO=4&t=1732119552.7694602 HTTP/11\" 200 126\n",
      "Polling connection accepted with {'sid': 'ULyMOFPoXTBm9b5DAOeG', 'upgrades': ['websocket'], 'pingInterval': 50000, 'pingTimeout': 30000, 'maxPayload': 180000}\n",
      "INFO:engineio.client:Polling connection accepted with {'sid': 'ULyMOFPoXTBm9b5DAOeG', 'upgrades': ['websocket'], 'pingInterval': 50000, 'pingTimeout': 30000, 'maxPayload': 180000}\n",
      "Engine.IO connection established\n",
      "INFO:socketio.client:Engine.IO connection established\n",
      "Sending packet MESSAGE data 0{}\n",
      "INFO:engineio.client:Sending packet MESSAGE data 0{}\n",
      "Attempting WebSocket upgrade to wss://bondage-club-server.herokuapp.com/socket.io/?transport=websocket&EIO=4\n",
      "INFO:engineio.client:Attempting WebSocket upgrade to wss://bondage-club-server.herokuapp.com/socket.io/?transport=websocket&EIO=4\n",
      "WebSocket upgrade was successful\n",
      "INFO:engineio.client:WebSocket upgrade was successful\n",
      "Received packet MESSAGE data 0{\"sid\":\"UusaYqaDuPcvMlXQAOeH\"}\n",
      "INFO:engineio.client:Received packet MESSAGE data 0{\"sid\":\"UusaYqaDuPcvMlXQAOeH\"}\n",
      "Namespace / is connected\n",
      "Received packet MESSAGE data 2[\"ServerInfo\",{\"Time\":1732119554518,\"OnlinePlayers\":987}]\n",
      "INFO:engineio.client:Received packet MESSAGE data 2[\"ServerInfo\",{\"Time\":1732119554518,\"OnlinePlayers\":987}]\n",
      "INFO:socketio.client:Namespace / is connected\n",
      "Received event \"ServerInfo\" [/]\n",
      "INFO:socketio.client:Received event \"ServerInfo\" [/]\n",
      "Emitting event \"AccountLogin\" [/]\n",
      "INFO:socketio.client:Emitting event \"AccountLogin\" [/]\n",
      "Sending packet MESSAGE data 2[\"AccountLogin\",{\"AccountName\":\"vmaid\",\"Password\":\"111111\"}]\n",
      "INFO:engineio.client:Sending packet MESSAGE data 2[\"AccountLogin\",{\"AccountName\":\"vmaid\",\"Password\":\"111111\"}]\n"
     ]
    },
    {
     "name": "stdout",
     "output_type": "stream",
     "text": [
      "Connected.\n",
      "ServerInfo: {'Time': 1732119554518, 'OnlinePlayers': 987}\n"
     ]
    },
    {
     "name": "stderr",
     "output_type": "stream",
     "text": [
      "Received packet MESSAGE data 2[\"LoginResponse\",{\"_id\":\"673df91b0dbc500015726058\",\"AccountName\":\"VMAID\",\"MemberNumber\":184125,\"Name\":\"vmaid\",\"Money\":100,\"Creation\":1732114715796,\"LastLogin\":1732119554761,\"Environment\":\"PROD\",\"Lovership\":[],\"ItemPermission\":2,\"FriendList\":[],\"WhiteList\":[],\"BlackList\":[],\"Appearance\":[{\"Group\":\"Cloth\",\"Name\":\"StudentOutfit1\",\"Color\":[\"Default\",\"Default\",\"Default\",\"Default\"]},{\"Group\":\"Bra\",\"Name\":\"Bra1\"},{\"Group\":\"Panties\",\"Name\":\"Panties1\"},{\"Group\":\"Socks\",\"Name\":\"Socks0\"},{\"Group\":\"SocksRight\",\"Name\":\"Socks0\"},{\"Group\":\"SocksLeft\",\"Name\":\"Socks0\"},{\"Group\":\"Shoes\",\"Name\":\"Shoes1\"},{\"Group\":\"Height\",\"Name\":\"H0950\",\"Color\":[]},{\"Group\":\"BodyUpper\",\"Name\":\"Small\",\"Color\":[\"White\"],\"Property\":{\"TypeRecord\":{\"typed\":0}}},{\"Group\":\"BodyLower\",\"Name\":\"Small\"},{\"Group\":\"HairFront\",\"Name\":\"HairFront1\",\"Color\":[\"#6a3628\"]},{\"Group\":\"HairBack\",\"Name\":\"HairNone\"},{\"Group\":\"Eyebrows\",\"Name\":\"Eyebrows1\"},{\"Group\":\"Eyes\",\"Name\":\"Eyes1\"},{\"Group\":\"EyeShadow\",\"Name\":\"CatEye\",\"Color\":[\"#131313\"],\"Property\":{\"Opacity\":0.8}},{\"Group\":\"Eyes2\",\"Name\":\"Eyes1\"},{\"Group\":\"Mouth\",\"Name\":\"Regular\",\"Color\":[\"Default\",\"Default\"],\"Property\":{\"TypeRecord\":{\"l\":0,\"t\":0},\"Difficulty\":0,\"Block\":[],\"Effect\":[],\"Hide\":[],\"HideItem\":[],\"AllowActivity\":[],\"Attribute\":[]}},{\"Group\":\"Nipples\",\"Name\":\"Nipples1\"},{\"Group\":\"Pussy\",\"Name\":\"Pussy1\"},{\"Group\":\"Pronouns\",\"Name\":\"SheHer\"},{\"Group\":\"Head\",\"Name\":\"Default\"},{\"Group\":\"Blush\",\"Name\":\"Blush\"},{\"Group\":\"Fluids\",\"Name\":\"Fluids\"},{\"Group\":\"Emoticon\",\"Name\":\"Emoticon\"},{\"Group\":\"Hands\",\"Name\":\"Default\"}],\"ArousalSettings\":{\"Active\":\"Hybrid\",\"Visible\":\"Access\",\"ShowOtherMeter\":true,\"AffectExpression\":true,\"AffectStutter\":\"All\",\"VFX\":\"VFXAnimatedTemp\",\"VFXVibrator\":\"VFXVibratorAnimated\",\"VFXFilter\":\"VFXFilterLight\",\"Progress\":0,\"ProgressTimer\":100,\"VibratorLevel\":0,\"ChangeTime\":0,\"Activity\":\"zzzzzzzzzzzzzzzzzzzzzzzzzzzzzzzzzzzzzzzzzzzzzzzzzzzzzzzzzzzz\",\"Zone\":\"ffpppfffffffffffff\",\"Fetish\":\"fffffffffffffffffff\",\"OrgasmTimer\":0,\"OrgasmStage\":0,\"OrgasmCount\":0,\"DisableAdvancedVibes\":false},\"AudioSettings\":{\"Volume\":1,\"MusicVolume\":1,\"PlayBeeps\":false,\"PlayItem\":false,\"PlayItemPlayerOnly\":false,\"Notifications\":false},\"ChatSettings\":{\"ColorActions\":true,\"ColorActivities\":true,\"ColorEmotes\":true,\"ColorNames\":true,\"ColorTheme\":\"Light\",\"DisplayTimestamps\":true,\"EnterLeave\":\"Normal\",\"FontSize\":\"Medium\",\"MemberNumbers\":\"Always\",\"MuStylePoses\":false,\"ShowActivities\":true,\"ShowAutomaticMessages\":false,\"ShowBeepChat\":true,\"ShowChatHelp\":true,\"ShrinkNonDialogue\":false,\"WhiteSpace\":\"Preserve\",\"CensoredWordsList\":\"\",\"CensoredWordsLevel\":0,\"PreserveChat\":true,\"OOCAutoClose\":true},\"ControllerSettings\":{\"ControllerActive\":false,\"ControllerSensitivity\":5,\"ControllerDeadZone\":0.01},\"GameplaySettings\":{\"SensDepChatLog\":\"Normal\",\"BlindDisableExamine\":false,\"DisableAutoRemoveLogin\":false,\"ImmersionLockSetting\":false,\"EnableSafeword\":true,\"DisableAutoMaid\":false,\"OfflineLockedRestrained\":false},\"GraphicsSettings\":{\"Font\":\"Arial\",\"InvertRoom\":true,\"StimulationFlash\":false,\"DoBlindFlash\":false,\"AnimationQuality\":100,\"SmoothZoom\":true,\"CenterChatrooms\":true,\"AllowBlur\":true,\"MaxFPS\":60,\"MaxUnfocusedFPS\":0,\"ShowFPS\":false},\"ImmersionSettings\":{\"StimulationEvents\":true,\"ReturnToChatRoom\":false,\"ReturnToChatRoomAdmin\":false,\"ChatRoomMapLeaveOnExit\":false,\"SenseDepMessages\":false,\"ChatRoomMuffle\":false,\"BlindAdjacent\":false,\"AllowTints\":true,\"ShowUngarbledMessages\":true},\"LabelColor\":\"#ffffff\",\"NotificationSettings\":{\"Beeps\":{\"AlertType\":2,\"Audio\":0},\"ChatMessage\":{\"AlertType\":0,\"Audio\":0,\"Normal\":true,\"Whisper\":true,\"Activity\":false},\"ChatJoin\":{\"AlertType\":0,\"Audio\":0,\"Owner\":false,\"Lovers\":false,\"Friendlist\":false,\"Subs\":false},\"Disconnect\":{\"AlertType\":0,\"Audio\":0},\"Larp\":{\"AlertType\":0,\"Audio\":0},\"Test\":{\"AlertType\":1,\"Audio\":0}},\"OnlineSettings\":{\"AutoBanBlackList\":false,\"AutoBanGhostList\":true,\"DisableAnimations\":false,\"SearchShowsFullRooms\":true,\"SearchFriendsFirst\":false,\"EnableAfkTimer\":true,\"ShowStatus\":true,\"SendStatus\":true,\"FriendListAutoRefresh\":true,\"ShowRoomCustomization\":1,\"BCT\":\"N4IgzgDgNglgLgeQE4HMCGYC2BBJB7AVzDShAC44kCBTAGhDXyJICNGAZPAYzThjwB25EACE8cOHkwh6jQsSgAFfCiTUwYALIEofaDGpJyARllMFAEWo8Antt0x9hk/TyoMmZXlXqtOvbDOZKYgbuhYVrb2AQZGwWbyJNgAZsnWcGDI4Z4qahrklDQJzFApaVwZAKJqFfxCFFR0DASSmLwwXNXpdQAqABZ5fXhQACbkAEwArPRwaDBQAOpoKCgwAiiVAmgsUNTkySRgTbPzSytrKD1zUAgC1AByaJh7ZCCKBBAQNlfzAMqUaAgxhkIBOi2Wq3WPxudwAwsM3MIAMQAFgAzMZsMZxiCwWdIZdrj0AO54R7PYQLYbJaH/JCAtG4674i7Qkl4eFQRGvJEYgAMFj5sKZpwhFysUDQNnIkz5fJmzLF63hBAEcHIaPoLHUcAAYkgDAIRmBNttdmMGkUQNqwHqDdQjWAAEp4KS/PqMF6FJo2u2G43sGC28gAbQAuvRMEGuO7PS6pIHg2Rw/Q+mAengRLrOFwANZcQQAN0M6rIBygR3oAEk4NRPIZpGRQCIdQACfX+1uKNAjLl54T3NxtUj0Fu29v2o2tnowZ5ILs9vu5gdDkggAC+sigUCrBYEtygNndeGJtwAEnhi3Fy5XrRVd4ID0ehqeBBerwVGvQwC/YR71tQXIoJ+VrJJOvZBnAvxclUWw7NQFrevQV5gHUEx8uuQA\"},\"OnlineSharedSettings\":{\"GameVersion\":\"R110\",\"AllowFullWardrobeAccess\":false,\"BlockBodyCosplay\":false,\"AllowPlayerLeashing\":true,\"AllowRename\":true,\"DisablePickingLocksOnSelf\":false,\"ItemsAffectExpressions\":true,\"WheelFortune\":\"ABCFGHKLMNPQRSUVWabcfgj$!-()0123456\",\"ScriptPermissions\":{\"Hide\":{\"permission\":0},\"Block\":{\"permission\":0}},\"Uwall\":true,\"MBS\":\"ᯡ࠸䈌Ԁᜥ㠮恳ǴÒ⤡堲⍄אೄ䘡乀̀ව乌堣⏁琕ᦃ箎崇埝崛ԭాၒ㿔䢩ᦂ历័״㜭༹ᵆᘠ愨ȤĬࠠ䱈楏䮽㞁✒涧篮溼㹟煰ఄ  \",\"MBSVersion\":\"1.7.31\",\"XSA\":{\"wombTattoosAppliedEffects\":[],\"sensitiveLevel\":0}},\"RestrictionSettings\":{\"BypassStruggle\":false,\"SlowImmunity\":false,\"BypassNPCPunishments\":false,\"NoSpeechGarble\":false},\"VisualSettings\":{\"ForceFullHeight\":false,\"UseCharacterInPreviews\":false},\"ExtensionSettings\":{\"FBC\":\"N4IghgdglgtmAuUD2ECiEDmUIFMQC4AzMAGwGccAaEHADwAcAnHMs5CMg48q8AY0QA3KPACeqBs1btORUhWql4ORhAQ4AgoyQBXMqS7zeZeDvjLGs7gpAQdMFVD5bd+kgFkcFgvEY7eJGCijpgAElAAJnhyPNR8SPSiAMJIJEiMhrE0tMoQUREA6mCMEdoARtHWAUh8pEUl5ZVG1ExQgur1pUgVmTbxEIRQjDCdjQDKYIJNWWBmSHDKSWB8ABY4SSQ4xb28cHakS6vrm9sxNtgmkPCerDiYKj5+vLMYDhDwSSsIj/5xviToCwAeRqP14AHcVlAyPQVABJCD0MxguJfD6pdKyXy/ECERhQO4RAAKUjufBwADkkIhBrVECgrM1cfjCUDCIQSNhKdSoLSEDIdtQ8QS8lSaU5+QyEZ9vmdePQwCYSUhBptGVlYXlsBgbvoMCwUSB8asgRBObhlarotiIVCYSoACrFfXwABiUFoBvwNsU7ygAHFimVNoLwH7A4xg+s0UD6PSOKGrgGg5sZfAADI4KYkAi4nQkHO+xARqNpsamcwPfAgJgsFRTEBF5OR1NogBCYDKoidJAA1rnaxRGA2myXNgU7bDGJns7nCPnC2HiymcBPoVPy2ZvNXB/W8KOV2v7YwO12e/2d6Th/uQGk+L36E4L1VFAWkOD00EQhg15s27o8kTOZyz8DAMBDOVXzScE4XcNtRAVVg2ySAANRM/QAES2QhQ3gJBRDGUQID4UNg2wQoRBWXR4H9QJbnVGwTjIFYNBIcEggY3goSicIIiiCA4WUGAyDhfpQxEHAYA0P1Pi2eB0MQWSEDbQJ73TaF5MgkAdHYgtDVrKZ3k/YJ8UweCgXgNZLFDZg0iwCBDQwKiTApHBwQAVSHTi4hQQZhkzSZrSeagImhPhmC8dwkCiUM+D0PCYBSd47ngDD5jAbBZPvQ1mOKTQ+IZQ0yi3egSB0DAsOEclZBARsQDwgiiOcPipBq8EyHwAB6TqAEYACYAHYADoAAZRqGnr8H6gBmAAWABWOqpksdgCAANmmoa+oAXyAA==\",\"LSCG\":\"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\"},\"InventoryData\":\"iÍŤťůǃ̐Ζ϶ѫ\",\"BlockItems\":{},\"FavoriteItems\":{},\"HiddenItems\":[],\"LimitedItems\":{},\"ConfiscatedItems\":[],\"GenderSettings\":{\"AutoJoinSearch\":{\"Female\":false,\"Male\":false},\"HideShopItems\":{\"Female\":false,\"Male\":false},\"HideTitles\":{\"Female\":false,\"Male\":false}},\"Lover\":\"\",\"Owner\":\"\",\"Log\":[{\"Name\":\"IntroductionDone\",\"Group\":\"MainHall\"}],\"ID\":\"UusaYqaDuPcvMlXQAOeH\"}]\n",
      "INFO:engineio.client:Received packet MESSAGE data 2[\"LoginResponse\",{\"_id\":\"673df91b0dbc500015726058\",\"AccountName\":\"VMAID\",\"MemberNumber\":184125,\"Name\":\"vmaid\",\"Money\":100,\"Creation\":1732114715796,\"LastLogin\":1732119554761,\"Environment\":\"PROD\",\"Lovership\":[],\"ItemPermission\":2,\"FriendList\":[],\"WhiteList\":[],\"BlackList\":[],\"Appearance\":[{\"Group\":\"Cloth\",\"Name\":\"StudentOutfit1\",\"Color\":[\"Default\",\"Default\",\"Default\",\"Default\"]},{\"Group\":\"Bra\",\"Name\":\"Bra1\"},{\"Group\":\"Panties\",\"Name\":\"Panties1\"},{\"Group\":\"Socks\",\"Name\":\"Socks0\"},{\"Group\":\"SocksRight\",\"Name\":\"Socks0\"},{\"Group\":\"SocksLeft\",\"Name\":\"Socks0\"},{\"Group\":\"Shoes\",\"Name\":\"Shoes1\"},{\"Group\":\"Height\",\"Name\":\"H0950\",\"Color\":[]},{\"Group\":\"BodyUpper\",\"Name\":\"Small\",\"Color\":[\"White\"],\"Property\":{\"TypeRecord\":{\"typed\":0}}},{\"Group\":\"BodyLower\",\"Name\":\"Small\"},{\"Group\":\"HairFront\",\"Name\":\"HairFront1\",\"Color\":[\"#6a3628\"]},{\"Group\":\"HairBack\",\"Name\":\"HairNone\"},{\"Group\":\"Eyebrows\",\"Name\":\"Eyebrows1\"},{\"Group\":\"Eyes\",\"Name\":\"Eyes1\"},{\"Group\":\"EyeShadow\",\"Name\":\"CatEye\",\"Color\":[\"#131313\"],\"Property\":{\"Opacity\":0.8}},{\"Group\":\"Eyes2\",\"Name\":\"Eyes1\"},{\"Group\":\"Mouth\",\"Name\":\"Regular\",\"Color\":[\"Default\",\"Default\"],\"Property\":{\"TypeRecord\":{\"l\":0,\"t\":0},\"Difficulty\":0,\"Block\":[],\"Effect\":[],\"Hide\":[],\"HideItem\":[],\"AllowActivity\":[],\"Attribute\":[]}},{\"Group\":\"Nipples\",\"Name\":\"Nipples1\"},{\"Group\":\"Pussy\",\"Name\":\"Pussy1\"},{\"Group\":\"Pronouns\",\"Name\":\"SheHer\"},{\"Group\":\"Head\",\"Name\":\"Default\"},{\"Group\":\"Blush\",\"Name\":\"Blush\"},{\"Group\":\"Fluids\",\"Name\":\"Fluids\"},{\"Group\":\"Emoticon\",\"Name\":\"Emoticon\"},{\"Group\":\"Hands\",\"Name\":\"Default\"}],\"ArousalSettings\":{\"Active\":\"Hybrid\",\"Visible\":\"Access\",\"ShowOtherMeter\":true,\"AffectExpression\":true,\"AffectStutter\":\"All\",\"VFX\":\"VFXAnimatedTemp\",\"VFXVibrator\":\"VFXVibratorAnimated\",\"VFXFilter\":\"VFXFilterLight\",\"Progress\":0,\"ProgressTimer\":100,\"VibratorLevel\":0,\"ChangeTime\":0,\"Activity\":\"zzzzzzzzzzzzzzzzzzzzzzzzzzzzzzzzzzzzzzzzzzzzzzzzzzzzzzzzzzzz\",\"Zone\":\"ffpppfffffffffffff\",\"Fetish\":\"fffffffffffffffffff\",\"OrgasmTimer\":0,\"OrgasmStage\":0,\"OrgasmCount\":0,\"DisableAdvancedVibes\":false},\"AudioSettings\":{\"Volume\":1,\"MusicVolume\":1,\"PlayBeeps\":false,\"PlayItem\":false,\"PlayItemPlayerOnly\":false,\"Notifications\":false},\"ChatSettings\":{\"ColorActions\":true,\"ColorActivities\":true,\"ColorEmotes\":true,\"ColorNames\":true,\"ColorTheme\":\"Light\",\"DisplayTimestamps\":true,\"EnterLeave\":\"Normal\",\"FontSize\":\"Medium\",\"MemberNumbers\":\"Always\",\"MuStylePoses\":false,\"ShowActivities\":true,\"ShowAutomaticMessages\":false,\"ShowBeepChat\":true,\"ShowChatHelp\":true,\"ShrinkNonDialogue\":false,\"WhiteSpace\":\"Preserve\",\"CensoredWordsList\":\"\",\"CensoredWordsLevel\":0,\"PreserveChat\":true,\"OOCAutoClose\":true},\"ControllerSettings\":{\"ControllerActive\":false,\"ControllerSensitivity\":5,\"ControllerDeadZone\":0.01},\"GameplaySettings\":{\"SensDepChatLog\":\"Normal\",\"BlindDisableExamine\":false,\"DisableAutoRemoveLogin\":false,\"ImmersionLockSetting\":false,\"EnableSafeword\":true,\"DisableAutoMaid\":false,\"OfflineLockedRestrained\":false},\"GraphicsSettings\":{\"Font\":\"Arial\",\"InvertRoom\":true,\"StimulationFlash\":false,\"DoBlindFlash\":false,\"AnimationQuality\":100,\"SmoothZoom\":true,\"CenterChatrooms\":true,\"AllowBlur\":true,\"MaxFPS\":60,\"MaxUnfocusedFPS\":0,\"ShowFPS\":false},\"ImmersionSettings\":{\"StimulationEvents\":true,\"ReturnToChatRoom\":false,\"ReturnToChatRoomAdmin\":false,\"ChatRoomMapLeaveOnExit\":false,\"SenseDepMessages\":false,\"ChatRoomMuffle\":false,\"BlindAdjacent\":false,\"AllowTints\":true,\"ShowUngarbledMessages\":true},\"LabelColor\":\"#ffffff\",\"NotificationSettings\":{\"Beeps\":{\"AlertType\":2,\"Audio\":0},\"ChatMessage\":{\"AlertType\":0,\"Audio\":0,\"Normal\":true,\"Whisper\":true,\"Activity\":false},\"ChatJoin\":{\"AlertType\":0,\"Audio\":0,\"Owner\":false,\"Lovers\":false,\"Friendlist\":false,\"Subs\":false},\"Disconnect\":{\"AlertType\":0,\"Audio\":0},\"Larp\":{\"AlertType\":0,\"Audio\":0},\"Test\":{\"AlertType\":1,\"Audio\":0}},\"OnlineSettings\":{\"AutoBanBlackList\":false,\"AutoBanGhostList\":true,\"DisableAnimations\":false,\"SearchShowsFullRooms\":true,\"SearchFriendsFirst\":false,\"EnableAfkTimer\":true,\"ShowStatus\":true,\"SendStatus\":true,\"FriendListAutoRefresh\":true,\"ShowRoomCustomization\":1,\"BCT\":\"N4IgzgDgNglgLgeQE4HMCGYC2BBJB7AVzDShAC44kCBTAGhDXyJICNGAZPAYzThjwB25EACE8cOHkwh6jQsSgAFfCiTUwYALIEofaDGpJyARllMFAEWo8Antt0x9hk/TyoMmZXlXqtOvbDOZKYgbuhYVrb2AQZGwWbyJNgAZsnWcGDI4Z4qahrklDQJzFApaVwZAKJqFfxCFFR0DASSmLwwXNXpdQAqABZ5fXhQACbkAEwArPRwaDBQAOpoKCgwAiiVAmgsUNTkySRgTbPzSytrKD1zUAgC1AByaJh7ZCCKBBAQNlfzAMqUaAgxhkIBOi2Wq3WPxudwAwsM3MIAMQAFgAzMZsMZxiCwWdIZdrj0AO54R7PYQLYbJaH/JCAtG4674i7Qkl4eFQRGvJEYgAMFj5sKZpwhFysUDQNnIkz5fJmzLF63hBAEcHIaPoLHUcAAYkgDAIRmBNttdmMGkUQNqwHqDdQjWAAEp4KS/PqMF6FJo2u2G43sGC28gAbQAuvRMEGuO7PS6pIHg2Rw/Q+mAengRLrOFwANZcQQAN0M6rIBygR3oAEk4NRPIZpGRQCIdQACfX+1uKNAjLl54T3NxtUj0Fu29v2o2tnowZ5ILs9vu5gdDkggAC+sigUCrBYEtygNndeGJtwAEnhi3Fy5XrRVd4ID0ehqeBBerwVGvQwC/YR71tQXIoJ+VrJJOvZBnAvxclUWw7NQFrevQV5gHUEx8uuQA\"},\"OnlineSharedSettings\":{\"GameVersion\":\"R110\",\"AllowFullWardrobeAccess\":false,\"BlockBodyCosplay\":false,\"AllowPlayerLeashing\":true,\"AllowRename\":true,\"DisablePickingLocksOnSelf\":false,\"ItemsAffectExpressions\":true,\"WheelFortune\":\"ABCFGHKLMNPQRSUVWabcfgj$!-()0123456\",\"ScriptPermissions\":{\"Hide\":{\"permission\":0},\"Block\":{\"permission\":0}},\"Uwall\":true,\"MBS\":\"ᯡ࠸䈌Ԁᜥ㠮恳ǴÒ⤡堲⍄אೄ䘡乀̀ව乌堣⏁琕ᦃ箎崇埝崛ԭాၒ㿔䢩ᦂ历័״㜭༹ᵆᘠ愨ȤĬࠠ䱈楏䮽㞁✒涧篮溼㹟煰ఄ  \",\"MBSVersion\":\"1.7.31\",\"XSA\":{\"wombTattoosAppliedEffects\":[],\"sensitiveLevel\":0}},\"RestrictionSettings\":{\"BypassStruggle\":false,\"SlowImmunity\":false,\"BypassNPCPunishments\":false,\"NoSpeechGarble\":false},\"VisualSettings\":{\"ForceFullHeight\":false,\"UseCharacterInPreviews\":false},\"ExtensionSettings\":{\"FBC\":\"N4IghgdglgtmAuUD2ECiEDmUIFMQC4AzMAGwGccAaEHADwAcAnHMs5CMg48q8AY0QA3KPACeqBs1btORUhWql4ORhAQ4AgoyQBXMqS7zeZeDvjLGs7gpAQdMFVD5bd+kgFkcFgvEY7eJGCijpgAElAAJnhyPNR8SPSiAMJIJEiMhrE0tMoQUREA6mCMEdoARtHWAUh8pEUl5ZVG1ExQgur1pUgVmTbxEIRQjDCdjQDKYIJNWWBmSHDKSWB8ABY4SSQ4xb28cHakS6vrm9sxNtgmkPCerDiYKj5+vLMYDhDwSSsIj/5xviToCwAeRqP14AHcVlAyPQVABJCD0MxguJfD6pdKyXy/ECERhQO4RAAKUjufBwADkkIhBrVECgrM1cfjCUDCIQSNhKdSoLSEDIdtQ8QS8lSaU5+QyEZ9vmdePQwCYSUhBptGVlYXlsBgbvoMCwUSB8asgRBObhlarotiIVCYSoACrFfXwABiUFoBvwNsU7ygAHFimVNoLwH7A4xg+s0UD6PSOKGrgGg5sZfAADI4KYkAi4nQkHO+xARqNpsamcwPfAgJgsFRTEBF5OR1NogBCYDKoidJAA1rnaxRGA2myXNgU7bDGJns7nCPnC2HiymcBPoVPy2ZvNXB/W8KOV2v7YwO12e/2d6Th/uQGk+L36E4L1VFAWkOD00EQhg15s27o8kTOZyz8DAMBDOVXzScE4XcNtRAVVg2ySAANRM/QAES2QhQ3gJBRDGUQID4UNg2wQoRBWXR4H9QJbnVGwTjIFYNBIcEggY3goSicIIiiCA4WUGAyDhfpQxEHAYA0P1Pi2eB0MQWSEDbQJ73TaF5MgkAdHYgtDVrKZ3k/YJ8UweCgXgNZLFDZg0iwCBDQwKiTApHBwQAVSHTi4hQQZhkzSZrSeagImhPhmC8dwkCiUM+D0PCYBSd47ngDD5jAbBZPvQ1mOKTQ+IZQ0yi3egSB0DAsOEclZBARsQDwgiiOcPipBq8EyHwAB6TqAEYACYAHYADoAAZRqGnr8H6gBmAAWABWOqpksdgCAANmmoa+oAXyAA==\",\"LSCG\":\"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\"},\"InventoryData\":\"iÍŤťůǃ̐Ζ϶ѫ\",\"BlockItems\":{},\"FavoriteItems\":{},\"HiddenItems\":[],\"LimitedItems\":{},\"ConfiscatedItems\":[],\"GenderSettings\":{\"AutoJoinSearch\":{\"Female\":false,\"Male\":false},\"HideShopItems\":{\"Female\":false,\"Male\":false},\"HideTitles\":{\"Female\":false,\"Male\":false}},\"Lover\":\"\",\"Owner\":\"\",\"Log\":[{\"Name\":\"IntroductionDone\",\"Group\":\"MainHall\"}],\"ID\":\"UusaYqaDuPcvMlXQAOeH\"}]\n",
      "Received event \"LoginResponse\" [/]\n",
      "INFO:socketio.client:Received event \"LoginResponse\" [/]\n",
      "Received packet MESSAGE data 2[\"ServerInfo\",{\"Time\":1732119554762,\"OnlinePlayers\":988}]\n",
      "INFO:engineio.client:Received packet MESSAGE data 2[\"ServerInfo\",{\"Time\":1732119554762,\"OnlinePlayers\":988}]\n",
      "Received event \"ServerInfo\" [/]\n",
      "INFO:socketio.client:Received event \"ServerInfo\" [/]\n"
     ]
    },
    {
     "name": "stdout",
     "output_type": "stream",
     "text": [
      "Receive: LoginResponse\n",
      "ServerInfo: {'Time': 1732119554762, 'OnlinePlayers': 988}\n"
     ]
    },
    {
     "name": "stderr",
     "output_type": "stream",
     "text": [
      "Received packet MESSAGE data 2[\"ServerInfo\",{\"Time\":1732119565851,\"OnlinePlayers\":986}]\n",
      "INFO:engineio.client:Received packet MESSAGE data 2[\"ServerInfo\",{\"Time\":1732119565851,\"OnlinePlayers\":986}]\n",
      "Received event \"ServerInfo\" [/]\n",
      "INFO:socketio.client:Received event \"ServerInfo\" [/]\n"
     ]
    },
    {
     "name": "stdout",
     "output_type": "stream",
     "text": [
      "ServerInfo: {'Time': 1732119565851, 'OnlinePlayers': 986}\n"
     ]
    },
    {
     "name": "stderr",
     "output_type": "stream",
     "text": [
      "Sending packet CLOSE data None\n",
      "INFO:engineio.client:Sending packet CLOSE data None\n",
      "Engine.IO connection dropped\n",
      "Exiting write loop task\n",
      "INFO:socketio.client:Engine.IO connection dropped\n",
      "INFO:engineio.client:Exiting write loop task\n",
      "WebSocket connection was closed, aborting\n",
      "WARNING:engineio.client:WebSocket connection was closed, aborting\n",
      "Waiting for write loop task to end\n",
      "INFO:engineio.client:Waiting for write loop task to end\n",
      "Exiting read loop task\n",
      "INFO:engineio.client:Exiting read loop task\n"
     ]
    },
    {
     "name": "stdout",
     "output_type": "stream",
     "text": [
      "Disconnected.\n"
     ]
    },
    {
     "ename": "KeyboardInterrupt",
     "evalue": "",
     "output_type": "error",
     "traceback": [
      "\u001b[0;31m---------------------------------------------------------------------------\u001b[0m",
      "\u001b[0;31mKeyboardInterrupt\u001b[0m                         Traceback (most recent call last)",
      "Cell \u001b[0;32mIn[1], line 44\u001b[0m\n\u001b[1;32m     41\u001b[0m         \u001b[38;5;28mprint\u001b[39m(\u001b[38;5;124mf\u001b[39m\u001b[38;5;124m\"\u001b[39m\u001b[38;5;124m连接时出错: \u001b[39m\u001b[38;5;132;01m{\u001b[39;00m\u001b[38;5;250m \u001b[39m\u001b[38;5;28mtype\u001b[39m(e)\u001b[38;5;241m.\u001b[39m\u001b[38;5;18m__name__\u001b[39m\u001b[38;5;132;01m}\u001b[39;00m\u001b[38;5;124m, \u001b[39m\u001b[38;5;132;01m{\u001b[39;00me\u001b[38;5;132;01m}\u001b[39;00m\u001b[38;5;124m\"\u001b[39m)\n\u001b[1;32m     42\u001b[0m         traceback\u001b[38;5;241m.\u001b[39mprint_exc()\n\u001b[0;32m---> 44\u001b[0m \u001b[43msio_connect\u001b[49m\u001b[43m(\u001b[49m\u001b[43m)\u001b[49m\n",
      "Cell \u001b[0;32mIn[1], line 39\u001b[0m, in \u001b[0;36msio_connect\u001b[0;34m()\u001b[0m\n\u001b[1;32m     37\u001b[0m     sio\u001b[38;5;241m.\u001b[39mconnect(\u001b[38;5;124m'\u001b[39m\u001b[38;5;124mhttps://bondage-club-server.herokuapp.com/\u001b[39m\u001b[38;5;124m'\u001b[39m, headers \u001b[38;5;241m=\u001b[39m {\u001b[38;5;124m'\u001b[39m\u001b[38;5;124mOrigin\u001b[39m\u001b[38;5;124m'\u001b[39m:\u001b[38;5;124m'\u001b[39m\u001b[38;5;124mhttps://www.bondage-europe.com\u001b[39m\u001b[38;5;124m'\u001b[39m})\n\u001b[1;32m     38\u001b[0m     sio\u001b[38;5;241m.\u001b[39memit(\u001b[38;5;124m\"\u001b[39m\u001b[38;5;124mAccountLogin\u001b[39m\u001b[38;5;124m\"\u001b[39m,{\u001b[38;5;124m\"\u001b[39m\u001b[38;5;124mAccountName\u001b[39m\u001b[38;5;124m\"\u001b[39m:\u001b[38;5;124m\"\u001b[39m\u001b[38;5;124mvmaid\u001b[39m\u001b[38;5;124m\"\u001b[39m,\u001b[38;5;124m\"\u001b[39m\u001b[38;5;124mPassword\u001b[39m\u001b[38;5;124m\"\u001b[39m:\u001b[38;5;124m\"\u001b[39m\u001b[38;5;124m111111\u001b[39m\u001b[38;5;124m\"\u001b[39m})\n\u001b[0;32m---> 39\u001b[0m     \u001b[43msio\u001b[49m\u001b[38;5;241;43m.\u001b[39;49m\u001b[43mwait\u001b[49m\u001b[43m(\u001b[49m\u001b[43m)\u001b[49m\n\u001b[1;32m     40\u001b[0m \u001b[38;5;28;01mexcept\u001b[39;00m \u001b[38;5;167;01mException\u001b[39;00m \u001b[38;5;28;01mas\u001b[39;00m e:\n\u001b[1;32m     41\u001b[0m     \u001b[38;5;28mprint\u001b[39m(\u001b[38;5;124mf\u001b[39m\u001b[38;5;124m\"\u001b[39m\u001b[38;5;124m连接时出错: \u001b[39m\u001b[38;5;132;01m{\u001b[39;00m\u001b[38;5;250m \u001b[39m\u001b[38;5;28mtype\u001b[39m(e)\u001b[38;5;241m.\u001b[39m\u001b[38;5;18m__name__\u001b[39m\u001b[38;5;132;01m}\u001b[39;00m\u001b[38;5;124m, \u001b[39m\u001b[38;5;132;01m{\u001b[39;00me\u001b[38;5;132;01m}\u001b[39;00m\u001b[38;5;124m\"\u001b[39m)\n",
      "File \u001b[0;32m/usr/local/lib/python3.11/dist-packages/socketio/client.py:180\u001b[0m, in \u001b[0;36mClient.wait\u001b[0;34m(self)\u001b[0m\n\u001b[1;32m    174\u001b[0m \u001b[38;5;250m\u001b[39m\u001b[38;5;124;03m\"\"\"Wait until the connection with the server ends.\u001b[39;00m\n\u001b[1;32m    175\u001b[0m \n\u001b[1;32m    176\u001b[0m \u001b[38;5;124;03mClient applications can use this function to block the main thread\u001b[39;00m\n\u001b[1;32m    177\u001b[0m \u001b[38;5;124;03mduring the life of the connection.\u001b[39;00m\n\u001b[1;32m    178\u001b[0m \u001b[38;5;124;03m\"\"\"\u001b[39;00m\n\u001b[1;32m    179\u001b[0m \u001b[38;5;28;01mwhile\u001b[39;00m \u001b[38;5;28;01mTrue\u001b[39;00m:\n\u001b[0;32m--> 180\u001b[0m     \u001b[38;5;28;43mself\u001b[39;49m\u001b[38;5;241;43m.\u001b[39;49m\u001b[43meio\u001b[49m\u001b[38;5;241;43m.\u001b[39;49m\u001b[43mwait\u001b[49m\u001b[43m(\u001b[49m\u001b[43m)\u001b[49m\n\u001b[1;32m    181\u001b[0m     \u001b[38;5;28mself\u001b[39m\u001b[38;5;241m.\u001b[39msleep(\u001b[38;5;241m1\u001b[39m)  \u001b[38;5;66;03m# give the reconnect task time to start up\u001b[39;00m\n\u001b[1;32m    182\u001b[0m     \u001b[38;5;28;01mif\u001b[39;00m \u001b[38;5;129;01mnot\u001b[39;00m \u001b[38;5;28mself\u001b[39m\u001b[38;5;241m.\u001b[39m_reconnect_task:\n",
      "File \u001b[0;32m/usr/local/lib/python3.11/dist-packages/engineio/client.py:102\u001b[0m, in \u001b[0;36mClient.wait\u001b[0;34m(self)\u001b[0m\n\u001b[1;32m     96\u001b[0m \u001b[38;5;250m\u001b[39m\u001b[38;5;124;03m\"\"\"Wait until the connection with the server ends.\u001b[39;00m\n\u001b[1;32m     97\u001b[0m \n\u001b[1;32m     98\u001b[0m \u001b[38;5;124;03mClient applications can use this function to block the main thread\u001b[39;00m\n\u001b[1;32m     99\u001b[0m \u001b[38;5;124;03mduring the life of the connection.\u001b[39;00m\n\u001b[1;32m    100\u001b[0m \u001b[38;5;124;03m\"\"\"\u001b[39;00m\n\u001b[1;32m    101\u001b[0m \u001b[38;5;28;01mif\u001b[39;00m \u001b[38;5;28mself\u001b[39m\u001b[38;5;241m.\u001b[39mread_loop_task:\n\u001b[0;32m--> 102\u001b[0m     \u001b[38;5;28;43mself\u001b[39;49m\u001b[38;5;241;43m.\u001b[39;49m\u001b[43mread_loop_task\u001b[49m\u001b[38;5;241;43m.\u001b[39;49m\u001b[43mjoin\u001b[49m\u001b[43m(\u001b[49m\u001b[43m)\u001b[49m\n",
      "File \u001b[0;32m/usr/lib/python3.11/threading.py:1112\u001b[0m, in \u001b[0;36mThread.join\u001b[0;34m(self, timeout)\u001b[0m\n\u001b[1;32m   1109\u001b[0m     \u001b[38;5;28;01mraise\u001b[39;00m \u001b[38;5;167;01mRuntimeError\u001b[39;00m(\u001b[38;5;124m\"\u001b[39m\u001b[38;5;124mcannot join current thread\u001b[39m\u001b[38;5;124m\"\u001b[39m)\n\u001b[1;32m   1111\u001b[0m \u001b[38;5;28;01mif\u001b[39;00m timeout \u001b[38;5;129;01mis\u001b[39;00m \u001b[38;5;28;01mNone\u001b[39;00m:\n\u001b[0;32m-> 1112\u001b[0m     \u001b[38;5;28;43mself\u001b[39;49m\u001b[38;5;241;43m.\u001b[39;49m\u001b[43m_wait_for_tstate_lock\u001b[49m\u001b[43m(\u001b[49m\u001b[43m)\u001b[49m\n\u001b[1;32m   1113\u001b[0m \u001b[38;5;28;01melse\u001b[39;00m:\n\u001b[1;32m   1114\u001b[0m     \u001b[38;5;66;03m# the behavior of a negative timeout isn't documented, but\u001b[39;00m\n\u001b[1;32m   1115\u001b[0m     \u001b[38;5;66;03m# historically .join(timeout=x) for x<0 has acted as if timeout=0\u001b[39;00m\n\u001b[1;32m   1116\u001b[0m     \u001b[38;5;28mself\u001b[39m\u001b[38;5;241m.\u001b[39m_wait_for_tstate_lock(timeout\u001b[38;5;241m=\u001b[39m\u001b[38;5;28mmax\u001b[39m(timeout, \u001b[38;5;241m0\u001b[39m))\n",
      "File \u001b[0;32m/usr/lib/python3.11/threading.py:1132\u001b[0m, in \u001b[0;36mThread._wait_for_tstate_lock\u001b[0;34m(self, block, timeout)\u001b[0m\n\u001b[1;32m   1129\u001b[0m     \u001b[38;5;28;01mreturn\u001b[39;00m\n\u001b[1;32m   1131\u001b[0m \u001b[38;5;28;01mtry\u001b[39;00m:\n\u001b[0;32m-> 1132\u001b[0m     \u001b[38;5;28;01mif\u001b[39;00m \u001b[43mlock\u001b[49m\u001b[38;5;241;43m.\u001b[39;49m\u001b[43macquire\u001b[49m\u001b[43m(\u001b[49m\u001b[43mblock\u001b[49m\u001b[43m,\u001b[49m\u001b[43m \u001b[49m\u001b[43mtimeout\u001b[49m\u001b[43m)\u001b[49m:\n\u001b[1;32m   1133\u001b[0m         lock\u001b[38;5;241m.\u001b[39mrelease()\n\u001b[1;32m   1134\u001b[0m         \u001b[38;5;28mself\u001b[39m\u001b[38;5;241m.\u001b[39m_stop()\n",
      "File \u001b[0;32m/usr/local/lib/python3.11/dist-packages/engineio/base_client.py:21\u001b[0m, in \u001b[0;36msignal_handler\u001b[0;34m(sig, frame)\u001b[0m\n\u001b[1;32m     19\u001b[0m         client\u001b[38;5;241m.\u001b[39mdisconnect()\n\u001b[1;32m     20\u001b[0m \u001b[38;5;28;01mif\u001b[39;00m \u001b[38;5;28mcallable\u001b[39m(original_signal_handler):\n\u001b[0;32m---> 21\u001b[0m     \u001b[38;5;28;01mreturn\u001b[39;00m \u001b[43moriginal_signal_handler\u001b[49m\u001b[43m(\u001b[49m\u001b[43msig\u001b[49m\u001b[43m,\u001b[49m\u001b[43m \u001b[49m\u001b[43mframe\u001b[49m\u001b[43m)\u001b[49m\n\u001b[1;32m     22\u001b[0m \u001b[38;5;28;01melse\u001b[39;00m:  \u001b[38;5;66;03m# pragma: no cover\u001b[39;00m\n\u001b[1;32m     23\u001b[0m     \u001b[38;5;66;03m# Handle case where no original SIGINT handler was present.\u001b[39;00m\n\u001b[1;32m     24\u001b[0m     \u001b[38;5;28;01mreturn\u001b[39;00m signal\u001b[38;5;241m.\u001b[39mdefault_int_handler(sig, frame)\n",
      "File \u001b[0;32m/usr/local/lib/python3.11/dist-packages/socketio/base_client.py:22\u001b[0m, in \u001b[0;36msignal_handler\u001b[0;34m(sig, frame)\u001b[0m\n\u001b[1;32m     20\u001b[0m     client\u001b[38;5;241m.\u001b[39m_reconnect_abort\u001b[38;5;241m.\u001b[39mset()\n\u001b[1;32m     21\u001b[0m \u001b[38;5;28;01mif\u001b[39;00m \u001b[38;5;28mcallable\u001b[39m(original_signal_handler):\n\u001b[0;32m---> 22\u001b[0m     \u001b[38;5;28;01mreturn\u001b[39;00m \u001b[43moriginal_signal_handler\u001b[49m\u001b[43m(\u001b[49m\u001b[43msig\u001b[49m\u001b[43m,\u001b[49m\u001b[43m \u001b[49m\u001b[43mframe\u001b[49m\u001b[43m)\u001b[49m\n\u001b[1;32m     23\u001b[0m \u001b[38;5;28;01melse\u001b[39;00m:  \u001b[38;5;66;03m# pragma: no cover\u001b[39;00m\n\u001b[1;32m     24\u001b[0m     \u001b[38;5;66;03m# Handle case where no original SIGINT handler was present.\u001b[39;00m\n\u001b[1;32m     25\u001b[0m     \u001b[38;5;28;01mreturn\u001b[39;00m signal\u001b[38;5;241m.\u001b[39mdefault_int_handler(sig, frame)\n",
      "\u001b[0;31mKeyboardInterrupt\u001b[0m: "
     ]
    }
   ],
   "source": [
    "import socketio\n",
    "import traceback\n",
    "import logging\n",
    "import os\n",
    "\n",
    "logging.basicConfig(level=logging.DEBUG)\n",
    "\n",
    "sio = socketio.Client(logger=True, engineio_logger=True)\n",
    "# sio = socketio.Client(reconnection=True)\n",
    "\n",
    "@sio.event\n",
    "def connect():\n",
    "    print(\"Connected.\")\n",
    "\n",
    "@sio.event\n",
    "def disconnect():\n",
    "    print(\"Disconnected.\")\n",
    "\n",
    "@sio.on('message')\n",
    "def on_message(data):\n",
    "    print(f\"Recv: {data}\")\n",
    "\n",
    "@sio.on('ServerInfo')\n",
    "def on_message(data):\n",
    "    print(f\"ServerInfo: {data}\")\n",
    "\n",
    "@sio.on('*')\n",
    "def catch_all(event, data):\n",
    "    print(\"Receive: %s\" % (event))\n",
    "\n",
    "@sio.event\n",
    "def connect_error(data):\n",
    "    print(f\"Connection failed with error: {data}\")\n",
    "\n",
    "def sio_connect():\n",
    "    try:\n",
    "        sio.connect('https://bondage-club-server.herokuapp.com/', headers = {'Origin':'https://www.bondage-europe.com'})\n",
    "        sio.emit(\"AccountLogin\",{\"AccountName\":\"vmaid\",\"Password\":\"111111\"})\n",
    "        sio.wait()\n",
    "    except Exception as e:\n",
    "        print(f\"Connect err: { type(e).__name__}, {e}\")\n",
    "        traceback.print_exc()\n",
    "\n",
    "sio_connect()"
   ]
  }
 ],
 "metadata": {
  "kernelspec": {
   "display_name": "Python 3",
   "language": "python",
   "name": "python3"
  },
  "language_info": {
   "codemirror_mode": {
    "name": "ipython",
    "version": 3
   },
   "file_extension": ".py",
   "mimetype": "text/x-python",
   "name": "python",
   "nbconvert_exporter": "python",
   "pygments_lexer": "ipython3",
   "version": "3.11.2"
  }
 },
 "nbformat": 4,
 "nbformat_minor": 5
}
