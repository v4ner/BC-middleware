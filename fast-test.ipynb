{
 "cells": [
  {
   "cell_type": "code",
   "execution_count": 6,
   "id": "f425709f-5553-40d0-92d7-2bcd93cda8cc",
   "metadata": {},
   "outputs": [
    {
     "name": "stdout",
     "output_type": "stream",
     "text": [
      "Requirement already satisfied: python-socketio in /usr/local/lib/python3.11/dist-packages (5.11.4)\n",
      "Requirement already satisfied: websocket-client in /usr/local/lib/python3.11/dist-packages (1.8.0)\n",
      "Requirement already satisfied: requests in /usr/local/lib/python3.11/dist-packages (2.32.3)\n",
      "Requirement already satisfied: bidict>=0.21.0 in /usr/local/lib/python3.11/dist-packages (from python-socketio) (0.23.1)\n",
      "Requirement already satisfied: python-engineio>=4.8.0 in /usr/local/lib/python3.11/dist-packages (from python-socketio) (4.10.1)\n",
      "Requirement already satisfied: charset-normalizer<4,>=2 in /usr/local/lib/python3.11/dist-packages (from requests) (3.4.0)\n",
      "Requirement already satisfied: idna<4,>=2.5 in /usr/local/lib/python3.11/dist-packages (from requests) (3.10)\n",
      "Requirement already satisfied: urllib3<3,>=1.21.1 in /usr/local/lib/python3.11/dist-packages (from requests) (2.2.3)\n",
      "Requirement already satisfied: certifi>=2017.4.17 in /usr/local/lib/python3.11/dist-packages (from requests) (2024.8.30)\n",
      "Requirement already satisfied: simple-websocket>=0.10.0 in /usr/local/lib/python3.11/dist-packages (from python-engineio>=4.8.0->python-socketio) (1.1.0)\n",
      "Requirement already satisfied: wsproto in /usr/local/lib/python3.11/dist-packages (from simple-websocket>=0.10.0->python-engineio>=4.8.0->python-socketio) (1.2.0)\n",
      "Requirement already satisfied: h11<1,>=0.9.0 in /usr/local/lib/python3.11/dist-packages (from wsproto->simple-websocket>=0.10.0->python-engineio>=4.8.0->python-socketio) (0.14.0)\n",
      "\u001b[33mWARNING: Running pip as the 'root' user can result in broken permissions and conflicting behaviour with the system package manager. It is recommended to use a virtual environment instead: https://pip.pypa.io/warnings/venv\u001b[0m\u001b[33m\n",
      "\u001b[0m"
     ]
    }
   ],
   "source": [
    "!pip3 install python-socketio websocket-client requests --break-system-packages"
   ]
  },
  {
   "cell_type": "code",
   "execution_count": null,
   "id": "ab81ace8-f371-49d1-b8a3-bd2abe033268",
   "metadata": {},
   "outputs": [],
   "source": [
    "import socketio\n",
    "import traceback\n",
    "import logging\n",
    "import os\n",
    "\n",
    "logging.basicConfig(level=logging.DEBUG)\n",
    "\n",
    "sio = socketio.Client(logger=True, engineio_logger=True)\n",
    "# sio = socketio.Client(reconnection=True)\n",
    "\n",
    "@sio.event\n",
    "def connect():\n",
    "    print(\"Connected.\")\n",
    "\n",
    "@sio.event\n",
    "def disconnect():\n",
    "    print(\"Disconnected.\")\n",
    "\n",
    "@sio.on('message')\n",
    "def on_message(data):\n",
    "    print(f\"Recv: {data}\")\n",
    "\n",
    "@sio.on('ServerInfo')\n",
    "def on_message(data):\n",
    "    print(f\"ServerInfo: {data}\")\n",
    "\n",
    "@sio.on('*')\n",
    "def catch_all(event, data):\n",
    "    print(\"Receive: %s\" % (event))\n",
    "\n",
    "@sio.event\n",
    "def connect_error(data):\n",
    "    print(f\"Connection failed with error: {data}\")\n",
    "\n",
    "def sio_connect():\n",
    "    try:\n",
    "        sio.connect('https://bondage-club-server.herokuapp.com/', headers = {'Origin':'https://www.bondage-europe.com'})\n",
    "        sio.emit(\"AccountLogin\",{\"AccountName\":\"vmaid\",\"Password\":\"111111\"})\n",
    "        sio.wait()\n",
    "    except Exception as e:\n",
    "        print(f\"Connect err: { type(e).__name__}, {e}\")\n",
    "        traceback.print_exc()\n",
    "\n",
    "sio_connect()"
   ]
  }
 ],
 "metadata": {
  "kernelspec": {
   "display_name": "Python 3",
   "language": "python",
   "name": "python3"
  },
  "language_info": {
   "codemirror_mode": {
    "name": "ipython",
    "version": 3
   },
   "file_extension": ".py",
   "mimetype": "text/x-python",
   "name": "python",
   "nbconvert_exporter": "python",
   "pygments_lexer": "ipython3",
   "version": "3.11.2"
  }
 },
 "nbformat": 4,
 "nbformat_minor": 5
}
